{
 "cells": [
  {
   "cell_type": "code",
   "execution_count": 2,
   "id": "c3f0c133-f476-41cb-9051-b6e114b529a9",
   "metadata": {},
   "outputs": [],
   "source": [
    "import cv2\n",
    "import numpy as np\n",
    "import matplotlib.pyplot as plt"
   ]
  },
  {
   "cell_type": "code",
   "execution_count": 1,
   "id": "658ad365-ecc2-447f-880d-bad3fb331957",
   "metadata": {},
   "outputs": [],
   "source": [
    "picture = 'imgs/testDataSetImage1.png'\n"
   ]
  },
  {
   "cell_type": "code",
   "execution_count": 4,
   "id": "5eedb18d-feb3-4f1b-a3b8-c674d319cc4d",
   "metadata": {},
   "outputs": [],
   "source": [
    "def show_image(image):\n",
    "    cv2.imshow('input_image', image)\n",
    "    cv2.waitKey(0)\n",
    "    cv2.destroyAllWindows()\n",
    "    cv2.waitKey(1)"
   ]
  },
  {
   "cell_type": "code",
   "execution_count": 5,
   "id": "e52c971c-ef47-4124-b9d1-9e25fa073408",
   "metadata": {},
   "outputs": [],
   "source": [
    "def canny_edge(image):\n",
    "    \n",
    "    gray_conversion = cv2.cvtColor(image, cv2.COLOR_RGB2GRAY)\n",
    "    blur_conversion = cv2.GaussianBlur(gray_conversion, (9, 9), 10)\n",
    "    canny_conversion = cv2.Canny(blur_conversion, 50, 10)\n",
    "    show_image(canny_conversion)\n",
    "    return canny_conversion"
   ]
  },
  {
   "cell_type": "code",
   "execution_count": 6,
   "id": "4f2e5955-0046-4c62-a14b-9d12db944be0",
   "metadata": {},
   "outputs": [],
   "source": [
    "image = cv2.imread(picture)\n",
    "lanelines_image = np.copy(image)\n",
    "canny_conversion = canny_edge(lanelines_image)"
   ]
  },
  {
   "cell_type": "code",
   "execution_count": 7,
   "id": "2c2933ab-8dd9-4f3c-a122-8c06f4358b28",
   "metadata": {},
   "outputs": [],
   "source": [
    "def reg_of_interest(image):\n",
    "    Image_height = image.shape[0]\n",
    "    print(\"Image_height : \", Image_height)\n",
    "    \n",
    "    polygons = np.array([\n",
    "                        [\n",
    "                            (200, Image_height),\n",
    "                            (1100, Image_height),\n",
    "                            (550, 250)\n",
    "                        ]\n",
    "                        ])\n",
    "    print(\"polygons shape : \", np.shape(polygons))\n",
    "    image_mask = np.zeros_like(image)\n",
    "    cv2.fillPoly(image_mask, polygons, 255)\n",
    "    show_image(image_mask)\n",
    "    masking_image = cv2.bitwise_and(image, image_mask)\n",
    "    show_image(masking_image)\n",
    "    \n",
    "    return masking_image"
   ]
  },
  {
   "cell_type": "code",
   "execution_count": 9,
   "id": "c66670bf-326a-4e5d-af12-587a36410fee",
   "metadata": {},
   "outputs": [
    {
     "name": "stdout",
     "output_type": "stream",
     "text": [
      "Image_height :  375\n",
      "polygons shape :  (1, 3, 2)\n"
     ]
    }
   ],
   "source": [
    "cropped_image = reg_of_interest(canny_conversion)"
   ]
  },
  {
   "cell_type": "code",
   "execution_count": null,
   "id": "d039fd5e-c54e-45e5-8186-ee3c1695ba8d",
   "metadata": {},
   "outputs": [],
   "source": []
  }
 ],
 "metadata": {
  "kernelspec": {
   "display_name": "Python 3",
   "language": "python",
   "name": "python3"
  },
  "language_info": {
   "codemirror_mode": {
    "name": "ipython",
    "version": 3
   },
   "file_extension": ".py",
   "mimetype": "text/x-python",
   "name": "python",
   "nbconvert_exporter": "python",
   "pygments_lexer": "ipython3",
   "version": "3.7.5"
  }
 },
 "nbformat": 4,
 "nbformat_minor": 5
}
