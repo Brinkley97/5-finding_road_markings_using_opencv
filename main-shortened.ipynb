{
 "cells": [
  {
   "cell_type": "code",
   "execution_count": 16,
   "id": "c3f0c133-f476-41cb-9051-b6e114b529a9",
   "metadata": {},
   "outputs": [],
   "source": [
    "import os\n",
    "import cv2\n",
    "\n",
    "import numpy as np\n",
    "import matplotlib.pyplot as plt\n",
    "\n",
    "from PIL import Image"
   ]
  },
  {
   "cell_type": "code",
   "execution_count": 2,
   "id": "2d3a6d08-3f30-4673-ac4d-77370a3088ff",
   "metadata": {},
   "outputs": [],
   "source": [
    "def resize_images(image):\n",
    "    # Opens a image in RGB mode\n",
    "    im = Image.open(image)\n",
    "\n",
    "    # Size of the image in pixels (size of original image)\n",
    "    # (This is not mandatory)\n",
    "    width, height = im.size\n",
    "\n",
    "    # Setting the points for cropped image\n",
    "    left = 4\n",
    "    top = height / 5\n",
    "    right = 154\n",
    "    bottom = 3 * height / 5\n",
    "\n",
    "    # Cropped image of above dimension\n",
    "    # (It will not change original image)\n",
    "    im1 = im.crop((left, top, right, bottom))\n",
    "    newsize = (1988, 1073)\n",
    "    im1 = im1.resize(newsize)\n",
    "    # im1 = im1.astype('uint8')\n",
    "#     print(type(im1))\n",
    "#     data = im.fromarray(array)\n",
    "      \n",
    "#     # saving the final output \n",
    "#     # as a PNG file\n",
    "#     data.save('gfg_dummy_pic.png')\n",
    "    return im1"
   ]
  },
  {
   "cell_type": "code",
   "execution_count": null,
   "id": "73e25bef-41ed-4243-88f6-f3d07a069645",
   "metadata": {},
   "outputs": [],
   "source": []
  },
  {
   "cell_type": "code",
   "execution_count": 3,
   "id": "5eedb18d-feb3-4f1b-a3b8-c674d319cc4d",
   "metadata": {},
   "outputs": [],
   "source": [
    "def show_image(image):\n",
    "    cv2.imshow('input_image', image)\n",
    "    cv2.waitKey(0)\n",
    "    cv2.destroyAllWindows()\n",
    "    cv2.waitKey(1)"
   ]
  },
  {
   "cell_type": "code",
   "execution_count": 24,
   "id": "e52c971c-ef47-4124-b9d1-9e25fa073408",
   "metadata": {},
   "outputs": [],
   "source": [
    "def canny_edge(image):\n",
    "    # print(type(image))\n",
    "    gray_conversion = cv2.cvtColor(image, cv2.COLOR_RGB2GRAY)\n",
    "    # print(gray_conversion)\n",
    "    blur_conversion = cv2.GaussianBlur(gray_conversion, (5, 5), 0)\n",
    "    # print(blur_conversion)\n",
    "    # show_image(image)\n",
    "    \n",
    "    # shows how much details to show\n",
    "    # canny_conversion = cv2.Canny(blur_conversion, 150, 300)\n",
    "    canny_conversion = cv2.Canny(blur_conversion, 150, 300)\n",
    "    \n",
    "    # show_image(canny_conversion)\n",
    "    return canny_conversion"
   ]
  },
  {
   "cell_type": "code",
   "execution_count": 25,
   "id": "c89f2157-acfc-473a-9f2b-fa77a4bc7d76",
   "metadata": {},
   "outputs": [],
   "source": [
    "def reg_of_interest(image):\n",
    "    Image_height = image.shape[0]\n",
    "    # print(\"Image_height : \", Image_height)\n",
    "    \n",
    "    polygons = np.array([\n",
    "                        [\n",
    "                            (2000, Image_height),\n",
    "                            (10, Image_height),\n",
    "                            (250, 2)\n",
    "                        ]\n",
    "                        ])\n",
    "    # print(\"polygons shape : \", np.shape(polygons))\n",
    "    image_mask = np.zeros_like(image)\n",
    "    cv2.fillPoly(image_mask, polygons, 255)\n",
    "    # show_image(image_mask)\n",
    "    masking_image = cv2.bitwise_and(image, image_mask)\n",
    "    # show_image(masking_image)\n",
    "    \n",
    "    return masking_image"
   ]
  },
  {
   "cell_type": "code",
   "execution_count": 26,
   "id": "020b388d-1bb7-4956-9ba0-33de1d6c78ee",
   "metadata": {},
   "outputs": [],
   "source": [
    "def show_lines(image, lines):\n",
    "    lines_image = np.zeros_like(image)\n",
    "    # print(lines_image)\n",
    "    # print(lines != None)\n",
    "    if lines is not None:\n",
    "        # print(lines)\n",
    "        for line in lines:\n",
    "            # print(line, np.shape(line), np.shape(line.reshape(4)))\n",
    "            X1, Y1, X2, Y2 = line.reshape(4)\n",
    "            # print(X1, Y1, X2, Y2)\n",
    "            cv2.line(lines_image, (X1, Y1), (X2, Y2), (0, 0, 255), 10)\n",
    "    return lines_image"
   ]
  },
  {
   "cell_type": "code",
   "execution_count": 27,
   "id": "4f2e5955-0046-4c62-a14b-9d12db944be0",
   "metadata": {},
   "outputs": [
    {
     "name": "stdout",
     "output_type": "stream",
     "text": [
      "testDataSetImage2-resized.png\n",
      "testDataSetImage3.png\n",
      "testDataSetImage2.png\n",
      "testDataSetImage1.png\n",
      "testDataSetImage1-resized.png\n",
      "testDataSetImage5.png\n",
      "bookImage.png\n",
      "testDataSetImage4.png\n",
      "testDataSetImage6.png\n"
     ]
    }
   ],
   "source": [
    "img_dir = os.listdir(\"imgs/input/\")\n",
    "path = \"imgs/input/\"\n",
    "save_path = \"imgs/output/\"\n",
    "\n",
    "for img in img_dir:\n",
    "    \n",
    "    image = path + img\n",
    "    split_image_name = os.path.splitext(image)\n",
    "    file_extension = split_image_name[1]\n",
    "    \n",
    "    if file_extension == \".png\":\n",
    "        print(img)\n",
    "    \n",
    "        image = path + img\n",
    "        # resized_images = resize_images(image)\n",
    "        image = cv2.imread(image)\n",
    "        lanelines_image = np.copy(image)\n",
    "\n",
    "        canny_conversion = canny_edge(lanelines_image)\n",
    "        show_image(canny_conversion)\n",
    "        cropped_image = reg_of_interest(canny_conversion)\n",
    "        show_image(cropped_image)\n",
    "\n",
    "        lane_lines = cv2.HoughLinesP(cropped_image, 2, np.pi/180, 10, minLineLength=40, maxLineGap=5)\n",
    "        final_image = show_lines(lanelines_image, lane_lines)\n",
    "        show_image(final_image)\n",
    "\n",
    "        save_image_dir = save_path + img\n",
    "        # show_image(final_image)\n",
    "        cv2.imwrite(save_image_dir,  final_image)"
   ]
  },
  {
   "cell_type": "code",
   "execution_count": null,
   "id": "2c2933ab-8dd9-4f3c-a122-8c06f4358b28",
   "metadata": {},
   "outputs": [],
   "source": []
  },
  {
   "cell_type": "code",
   "execution_count": null,
   "id": "c66670bf-326a-4e5d-af12-587a36410fee",
   "metadata": {},
   "outputs": [],
   "source": []
  },
  {
   "cell_type": "code",
   "execution_count": null,
   "id": "d039fd5e-c54e-45e5-8186-ee3c1695ba8d",
   "metadata": {},
   "outputs": [],
   "source": []
  }
 ],
 "metadata": {
  "kernelspec": {
   "display_name": "Python 3 (ipykernel)",
   "language": "python",
   "name": "python3"
  },
  "language_info": {
   "codemirror_mode": {
    "name": "ipython",
    "version": 3
   },
   "file_extension": ".py",
   "mimetype": "text/x-python",
   "name": "python",
   "nbconvert_exporter": "python",
   "pygments_lexer": "ipython3",
   "version": "3.9.13"
  }
 },
 "nbformat": 4,
 "nbformat_minor": 5
}
